{
  "nbformat": 4,
  "nbformat_minor": 0,
  "metadata": {
    "colab": {
      "name": "ShapeAI_Python_Cyber_Security.ipynb",
      "provenance": [],
      "collapsed_sections": []
    },
    "kernelspec": {
      "name": "python3",
      "display_name": "Python 3"
    },
    "language_info": {
      "name": "python"
    }
  },
  "cells": [
    {
      "cell_type": "code",
      "metadata": {
        "colab": {
          "base_uri": "https://localhost:8080/"
        },
        "id": "ZofEdEy3Eg2Q",
        "outputId": "b36c5ff6-f0f9-464f-9c95-6a997e7e455a"
      },
      "source": [
        "from os import write\n",
        "import requests\n",
        "from datetime import datetime\n",
        "\n",
        "api_key = 'e41be5d25c7ba335590e66d2d871fe7a'  # API Key for WeatherAPI\n",
        "location = input(\"Enter the city name: \")   # stores the city name for which the weather details will be fetched\n",
        "\n",
        "complete_api_link = \"https://api.openweathermap.org/data/2.5/weather?q=\"+location+\"&appid=\"+api_key   # url using which we get the Details for the entered City\n",
        "api_link = requests.get(complete_api_link)\n",
        "api_data = api_link.json() # Weather details retrieved are saved as .json file\n",
        "\n",
        "temp_city = ((api_data['main']['temp']) - 273.15)   # stores temperature of City in °C\n",
        "weather_desc = api_data['weather'][0]['description']    # stores weather description\n",
        "hmdt = api_data['main']['humidity']   # stores Humidity of the City\n",
        "wind_spd = api_data['wind']['speed']    # stores Wind Speed\n",
        "date_time = datetime.now().strftime(\"%d %b %Y | %I:%M:%S %p\")   # stores the Date & Time when the Weather Data was fetched\n",
        "\n",
        "temp_city=\"{:.2f}\".format(temp_city)    # rounds the temperature of city upto 2 decimal places\n",
        "\n",
        "f=open(\"Weather Log.txt\",\"a\")   # opens/creates a file names \"Weather Log\" to stores Weather Details in Append Mode\n",
        "\n",
        "t = (\"\\n\\n-------------------------------------------------------------\\n\") \n",
        "print(t)\n",
        "f.write(t)    \n",
        "t = (\"Weather Stats for - {}  || {}\\n\".format(location.upper(), date_time))     # Location and Date & Time when the Details were recorded\n",
        "print(t)\n",
        "f.write(t)\n",
        "t = (\"-------------------------------------------------------------\\n\")\n",
        "print(t)\n",
        "f.write(t)\n",
        "t = (\"Current temperature is: \"+temp_city+\" °C\\n\")      # Temperature of the City\n",
        "print(t)\n",
        "f.write(t)\n",
        "t = (\"Current Weather desc  :\"+weather_desc+\"\\n\")     # Weather Description of the City\n",
        "print(t)\n",
        "f.write(t)\n",
        "t = (\"Current Humidity      :\"+str(hmdt)+'%\\n')     # Humidity of the City\n",
        "print(t)\n",
        "f.write(t)\n",
        "t = (\"Current Wind Speed    :\"+str(wind_spd)+'kmph\\n')      # Wind Speed at City\n",
        "print(t)\n",
        "f.write(t)\n",
        "f.close()     # closes the file \"Weather Log.txt\""
      ],
      "execution_count": 28,
      "outputs": [
        {
          "output_type": "stream",
          "text": [
            "Enter the city name: Siwan\n",
            "\n",
            "\n",
            "-------------------------------------------------------------\n",
            "\n",
            "Weather Stats for - SIWAN  || 21 Jun 2021 | 09:39:48 PM\n",
            "\n",
            "-------------------------------------------------------------\n",
            "\n",
            "Current temperature is: 26.96 deg C\n",
            "\n",
            "Current Weather desc  :overcast clouds\n",
            "\n",
            "Current Humidity      :85%\n",
            "\n",
            "Current Wind Speed    :3.51kmph\n",
            "\n"
          ],
          "name": "stdout"
        }
      ]
    }
  ]
}