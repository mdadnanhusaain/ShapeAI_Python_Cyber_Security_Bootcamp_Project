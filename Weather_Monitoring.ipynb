{
  "nbformat": 4,
  "nbformat_minor": 0,
  "metadata": {
    "colab": {
      "name": "ShapeAI_Python_Cyber_Security.ipynb",
      "provenance": [],
      "collapsed_sections": []
    },
    "kernelspec": {
      "name": "python3",
      "display_name": "Python 3"
    },
    "language_info": {
      "name": "python"
    }
  },
  "cells": [
    {
      "cell_type": "code",
      "metadata": {
        "colab": {
          "base_uri": "https://localhost:8080/"
        },
        "id": "ZofEdEy3Eg2Q",
        "outputId": "277101d7-f5ba-418f-b61b-c5b356f5feab"
      },
      "source": [
        "from os import write\n",
        "import requests\n",
        "from datetime import datetime\n",
        "\n",
        "api_key = 'e41be5d25c7ba335590e66d2d871fe7a'  # API Key for WeatherAPI\n",
        "location = input(\"Enter the city name: \")   # stores the city name for which the weather details will be fetched\n",
        "\n",
        "complete_api_link = \"https://api.openweathermap.org/data/2.5/weather?q=\"+location+\"&appid=\"+api_key   # url using which we get the Details for the entered City\n",
        "api_link = requests.get(complete_api_link)\n",
        "api_data = api_link.json() # Weather details retrieved are saved as .json file\n",
        "\n",
        "temp_city = ((api_data['main']['temp']) - 273.15)   # stores temperature of City in °C\n",
        "weather_desc = api_data['weather'][0]['description']    # stores weather description\n",
        "hmdt = api_data['main']['humidity']   # stores Humidity of the City\n",
        "wind_spd = api_data['wind']['speed']    # stores Wind Speed\n",
        "date_time = datetime.now().strftime(\"%d %b %Y | %I:%M:%S %p\")   # stores the Date & Time when the Weather Data was fetched\n",
        "\n",
        "temp_city=\"{:.2f}\".format(temp_city)    # rounds the temperature of city upto 2 decimal places\n",
        "\n",
        "f=open(\"Weather Log.txt\",\"a\")   # opens/creates a file names \"Weather Log\" to stores Weather Details in Append Mode\n",
        "\n",
        "t = (\"\\n\\n-------------------------------------------------------------\\n\") \n",
        "print(t)\n",
        "f.write(t)    \n",
        "t = (\"Weather Stats for - {}  || {} GMT\\n\".format(location.upper(), date_time))     # Location and Date & Time when the Details were recorded\n",
        "print(t)\n",
        "f.write(t)\n",
        "t = (\"-------------------------------------------------------------\\n\")\n",
        "print(t)\n",
        "f.write(t)\n",
        "t = (\"Current temperature is: \"+temp_city+\" °C\\n\")      # Temperature of the City\n",
        "print(t)\n",
        "f.write(t)\n",
        "t = (\"Current Weather desc  :\"+weather_desc+\"\\n\")     # Weather Description of the City\n",
        "print(t)\n",
        "f.write(t)\n",
        "t = (\"Current Humidity      :\"+str(hmdt)+'%\\n')     # Humidity of the City\n",
        "print(t)\n",
        "f.write(t)\n",
        "t = (\"Current Wind Speed    :\"+str(wind_spd)+'kmph\\n')      # Wind Speed at City\n",
        "print(t)\n",
        "f.write(t)\n",
        "f.close()     # closes the file \"Weather Log.txt\""
      ],
      "execution_count": 29,
      "outputs": [
        {
          "output_type": "stream",
          "text": [
            "Enter the city name: Ranchi\n",
            "\n",
            "\n",
            "-------------------------------------------------------------\n",
            "\n",
            "Weather Stats for - RANCHI  || 21 Jun 2021 | 10:23:00 PM\n",
            "\n",
            "-------------------------------------------------------------\n",
            "\n",
            "Current temperature is: 24.31 °C\n",
            "\n",
            "Current Weather desc  :overcast clouds\n",
            "\n",
            "Current Humidity      :84%\n",
            "\n",
            "Current Wind Speed    :2.06kmph\n",
            "\n"
          ],
          "name": "stdout"
        }
      ]
    }
  ]
}
